{
 "cells": [
  {
   "cell_type": "code",
   "execution_count": null,
   "id": "ad575359",
   "metadata": {},
   "outputs": [],
   "source": [
    "#1000) A+B\n",
    "print(sum(map(int, input().split())))"
   ]
  },
  {
   "cell_type": "code",
   "execution_count": null,
   "id": "b973ed4c",
   "metadata": {},
   "outputs": [],
   "source": [
    "#1001) A-B\n",
    "s = list(map(int, input().split()))\n",
    "print(s[0]-s[1])"
   ]
  },
  {
   "cell_type": "code",
   "execution_count": null,
   "id": "fdc28da9",
   "metadata": {},
   "outputs": [],
   "source": [
    "#1008) A/B\n",
    "A, B = map(int, input().split())\n",
    "print(A/B)"
   ]
  },
  {
   "cell_type": "code",
   "execution_count": null,
   "id": "96cfb147",
   "metadata": {},
   "outputs": [],
   "source": [
    "#1152) 단어의 개수\n",
    "print(len(input().split()))"
   ]
  },
  {
   "cell_type": "code",
   "execution_count": null,
   "id": "daafba4d",
   "metadata": {},
   "outputs": [],
   "source": [
    "#1157) 단어 공부\n",
    "s= input().lower()\n",
    "alpha= []\n",
    "for i in range(97,123):\n",
    "    alpha.append(s.count(chr(i)))\n",
    "print('?'if alpha.count(max(alpha))>1 else chr(alpha.index(max(alpha))+97).upper())"
   ]
  },
  {
   "cell_type": "code",
   "execution_count": null,
   "id": "d7222ff3",
   "metadata": {},
   "outputs": [],
   "source": [
    "#2475) 검증수\n",
    "s = list(map(int, input().split()))\n",
    "print(sum([i*i for i in s])%10)"
   ]
  },
  {
   "cell_type": "code",
   "execution_count": null,
   "id": "7012cd7f",
   "metadata": {},
   "outputs": [],
   "source": [
    "#2920) 음계\n",
    "s = list(map(int, input().split()))\n",
    "if s == sorted(s):\n",
    "    print('ascending')\n",
    "elif s == sorted(s, reverse = True):\n",
    "    print('descending')\n",
    "else:\n",
    "    print('mixed')"
   ]
  }
 ],
 "metadata": {
  "kernelspec": {
   "display_name": "Python 3",
   "language": "python",
   "name": "python3"
  },
  "language_info": {
   "codemirror_mode": {
    "name": "ipython",
    "version": 3
   },
   "file_extension": ".py",
   "mimetype": "text/x-python",
   "name": "python",
   "nbconvert_exporter": "python",
   "pygments_lexer": "ipython3",
   "version": "3.8.2"
  }
 },
 "nbformat": 4,
 "nbformat_minor": 5
}
