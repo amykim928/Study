{
 "cells": [
  {
   "cell_type": "code",
   "execution_count": null,
   "id": "ad575359",
   "metadata": {},
   "outputs": [],
   "source": [
    "#1000) A+B\n",
    "print(sum(map(int, input().split())))"
   ]
  },
  {
   "cell_type": "code",
   "execution_count": null,
   "id": "d7222ff3",
   "metadata": {},
   "outputs": [],
   "source": [
    "#2475) 검증수\n",
    "s = list(map(int, input().split()))\n",
    "print(sum([i*i for i in s])%10)"
   ]
  },
  {
   "cell_type": "code",
   "execution_count": null,
   "id": "7012cd7f",
   "metadata": {},
   "outputs": [],
   "source": [
    "#2920) 음계\n",
    "s = list(map(int, input().split()))\n",
    "if s == sorted(s):\n",
    "    print('ascending')\n",
    "elif s == sorted(s, reverse = True):\n",
    "    print('descending')\n",
    "else:\n",
    "    print('mixed')"
   ]
  }
 ],
 "metadata": {
  "kernelspec": {
   "display_name": "Python 3",
   "language": "python",
   "name": "python3"
  },
  "language_info": {
   "codemirror_mode": {
    "name": "ipython",
    "version": 3
   },
   "file_extension": ".py",
   "mimetype": "text/x-python",
   "name": "python",
   "nbconvert_exporter": "python",
   "pygments_lexer": "ipython3",
   "version": "3.8.2"
  }
 },
 "nbformat": 4,
 "nbformat_minor": 5
}
