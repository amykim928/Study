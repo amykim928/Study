{
 "cells": [
  {
   "cell_type": "code",
   "execution_count": null,
   "id": "ad575359",
   "metadata": {},
   "outputs": [],
   "source": [
    "#브론즈5 1000) A+B\n",
    "print(sum(map(int, input().split())))"
   ]
  },
  {
   "cell_type": "code",
   "execution_count": null,
   "id": "b973ed4c",
   "metadata": {},
   "outputs": [],
   "source": [
    "#브론즈5 1001) A-B\n",
    "s = list(map(int, input().split()))\n",
    "print(s[0]-s[1])"
   ]
  },
  {
   "cell_type": "code",
   "execution_count": null,
   "id": "fdc28da9",
   "metadata": {},
   "outputs": [],
   "source": [
    "#브론즈4 1008) A/B\n",
    "A, B = map(int, input().split())\n",
    "print(A/B)"
   ]
  },
  {
   "cell_type": "code",
   "execution_count": null,
   "id": "d7f5d6c4",
   "metadata": {},
   "outputs": [],
   "source": [
    "#브론즈3 1085) 직사각형에서 탈출\n",
    "x,y,w,h = map(int, input().split())\n",
    "print(min(abs(x-0),abs(y-0),abs(x-w),abs(y-h)))"
   ]
  },
  {
   "cell_type": "code",
   "execution_count": null,
   "id": "96cfb147",
   "metadata": {},
   "outputs": [],
   "source": [
    "#브론즈2 1152) 단어의 개수\n",
    "print(len(input().split()))"
   ]
  },
  {
   "cell_type": "code",
   "execution_count": null,
   "id": "daafba4d",
   "metadata": {},
   "outputs": [],
   "source": [
    "#브론즈1 1157) 단어 공부\n",
    "s= input().lower()\n",
    "alpha= []\n",
    "for i in range(97,123):\n",
    "    alpha.append(s.count(chr(i)))\n",
    "print('?'if alpha.count(max(alpha))>1 else chr(alpha.index(max(alpha))+97).upper())"
   ]
  },
  {
   "cell_type": "code",
   "execution_count": null,
   "id": "d0bb670c",
   "metadata": {},
   "outputs": [],
   "source": [
    "#브론즈1 1259) 팰린드롬수\n",
    "while True:\n",
    "    n = input()\n",
    "    if n == '0':\n",
    "        break\n",
    "        \n",
    "    if n == n[::-1]:\n",
    "        print('yes')\n",
    "    else:\n",
    "        print('no')"
   ]
  },
  {
   "cell_type": "code",
   "execution_count": null,
   "id": "f0912f10",
   "metadata": {},
   "outputs": [],
   "source": [
    "#브론즈4 1330) 두 수 비교하기\n",
    "A, B = map(int, input().split())\n",
    "if A > B: print('>')\n",
    "elif A == B: print('==')\n",
    "else: print('<')"
   ]
  },
  {
   "cell_type": "code",
   "execution_count": null,
   "id": "9faed2c3",
   "metadata": {},
   "outputs": [],
   "source": [
    "#브론즈1 1546) 평균\n",
    "N = int(input())\n",
    "scores = list(map(int, input().split()))\n",
    "max = max(scores)\n",
    "for i in range(len(scores)):\n",
    "    scores[i] = scores[i]/max*100\n",
    "    \n",
    "print(sum(scores)/len(scores))"
   ]
  },
  {
   "cell_type": "code",
   "execution_count": null,
   "id": "52439cbc",
   "metadata": {},
   "outputs": [],
   "source": [
    "#브론즈2 2231) 분해합\n",
    "n = int(input())\n",
    "for i in range(1, n+1):\n",
    "    num = list(map(int, str(i)))\n",
    "    if i+sum(num) == n:\n",
    "        print(i)\n",
    "        break\n",
    "        \n",
    "else:\n",
    "    print(0)"
   ]
  },
  {
   "cell_type": "code",
   "execution_count": null,
   "id": "3e0bc0bd",
   "metadata": {},
   "outputs": [],
   "source": [
    "#브론즈2 2292) 벌집\n",
    "num = int(input())\n",
    "room, i = 1, 1\n",
    "while True:\n",
    "    if room >= num:\n",
    "        print(i)\n",
    "        break\n",
    "    room += (6*i)\n",
    "    i += 1"
   ]
  },
  {
   "cell_type": "code",
   "execution_count": null,
   "id": "aae35bec",
   "metadata": {},
   "outputs": [],
   "source": [
    "#브론즈3 2438) 별 찍기 -1\n",
    "for i in range(1, int(input())+1): print(i*'*')"
   ]
  },
  {
   "cell_type": "code",
   "execution_count": null,
   "id": "4279aef2",
   "metadata": {},
   "outputs": [],
   "source": [
    "#브론즈3 2439) 별 찍기 -2\n",
    "star = int(input())\n",
    "for i in range(1, star+1): print((star-i)*' '+i*'*')"
   ]
  },
  {
   "cell_type": "code",
   "execution_count": null,
   "id": "d7222ff3",
   "metadata": {},
   "outputs": [],
   "source": [
    "#브론즈5 2475) 검증수\n",
    "s = list(map(int, input().split()))\n",
    "print(sum([i*i for i in s])%10)"
   ]
  },
  {
   "cell_type": "code",
   "execution_count": null,
   "id": "955a6511",
   "metadata": {},
   "outputs": [],
   "source": [
    "#브론즈2 2562) 최댓값\n",
    "arr=[int(input())for i in range(9)]\n",
    "print(max(arr),arr.index(max(arr))+1)"
   ]
  },
  {
   "cell_type": "code",
   "execution_count": null,
   "id": "7ae1c391",
   "metadata": {},
   "outputs": [],
   "source": [
    "#브론즈2 2577) 숫자의 개수\n",
    "A = int(input())\n",
    "B = int(input())\n",
    "C = int(input())\n",
    "num = str(A*B*C)\n",
    "print(num)\n",
    "for i in range(10):\n",
    "    print(num.count(str(i)))"
   ]
  },
  {
   "cell_type": "code",
   "execution_count": null,
   "id": "38a3a832",
   "metadata": {},
   "outputs": [],
   "source": [
    "#브론즈2 2675) 문자열 반복\n",
    "T = int(input())\n",
    "for i in range(T):\n",
    "    R, S = map(str, input().split())\n",
    "    for j in S:\n",
    "        print(int(R)*j, end = '')\n",
    "    print()"
   ]
  },
  {
   "cell_type": "code",
   "execution_count": null,
   "id": "e8ac122a",
   "metadata": {},
   "outputs": [],
   "source": [
    "#브론즈3 2739) 구구단\n",
    "N = int(input())\n",
    "for i in range(1, 10):\n",
    "    print('{} * {} = {}'.format(N, i, N*i))"
   ]
  },
  {
   "cell_type": "code",
   "execution_count": null,
   "id": "4c5218b5",
   "metadata": {},
   "outputs": [],
   "source": [
    "#브론즈3 2741) N 찍기\n",
    "for i in range(1, int(input())+1): print(i)"
   ]
  },
  {
   "cell_type": "code",
   "execution_count": null,
   "id": "3bc93605",
   "metadata": {},
   "outputs": [],
   "source": [
    "#브론즈3 2742) 기찍 N\n",
    "for i in range(int(input()), 0, -1): print(i)"
   ]
  },
  {
   "cell_type": "code",
   "execution_count": null,
   "id": "9eaa8a47",
   "metadata": {},
   "outputs": [],
   "source": [
    "#브론즈4 2753) 윤년\n",
    "year = int(input())\n",
    "if year%4 == 0 and (year%100 != 0 or year%400 == 0): print(1)\n",
    "else: print(0)"
   ]
  },
  {
   "cell_type": "code",
   "execution_count": null,
   "id": "c48a880a",
   "metadata": {},
   "outputs": [],
   "source": [
    "#브론즈2 2775) 부녀회장이 될테야\n",
    "T = int(input())\n",
    "for i in range(T):\n",
    "    k = int(input())\n",
    "    n = int(input())\n",
    "    people = [i for i in range(1, n+1)]\n",
    "    for x in range(k):\n",
    "        for y in range(1, n):\n",
    "            people[y] += people[y-1]\n",
    "    print(people[-1])"
   ]
  },
  {
   "cell_type": "code",
   "execution_count": null,
   "id": "5df9a2d1",
   "metadata": {},
   "outputs": [],
   "source": [
    "#브론즈2 2798) 블랙잭\n",
    "import itertools\n",
    "n, m = map(int, input().split())\n",
    "arr = list(map(int, input().split()))\n",
    "max_num = 0\n",
    "for i in itertools.combinations(arr, 3):\n",
    "    if sum(i) <= m:\n",
    "        if max_num < sum(i): max_num = sum(i)\n",
    "print(max_num)"
   ]
  },
  {
   "cell_type": "code",
   "execution_count": null,
   "id": "0598def5",
   "metadata": {},
   "outputs": [],
   "source": [
    "#브론즈3 2884) 알람 시계\n",
    "a,b=map(int,input().split())\n",
    "num=a*60+b-45\n",
    "print(num//60%24,num%60)"
   ]
  },
  {
   "cell_type": "code",
   "execution_count": null,
   "id": "ae953adb",
   "metadata": {},
   "outputs": [],
   "source": [
    "#브론즈2 2908) 상수\n",
    "A, B = input().split()\n",
    "print(int(max(A[::-1], B[::-1])))"
   ]
  },
  {
   "cell_type": "code",
   "execution_count": null,
   "id": "44a4cc17",
   "metadata": {},
   "outputs": [],
   "source": [
    "#브론즈2 2920) 음계\n",
    "s = list(map(int, input().split()))\n",
    "if s == sorted(s):\n",
    "    print('ascending')\n",
    "elif s == sorted(s, reverse = True):\n",
    "    print('descending')\n",
    "else:\n",
    "    print('mixed')"
   ]
  },
  {
   "cell_type": "code",
   "execution_count": null,
   "id": "cd4be7c8",
   "metadata": {},
   "outputs": [],
   "source": [
    "#브론즈2 3052) 나머지\n",
    "a = set()\n",
    "for i in range(10):\n",
    "    a.add(int(input())%42)\n",
    "    \n",
    "print(len(a))"
   ]
  },
  {
   "cell_type": "code",
   "execution_count": null,
   "id": "76908ea6",
   "metadata": {},
   "outputs": [],
   "source": [
    "#브론즈2 8958) OX퀴즈\n",
    "T = int(input())\n",
    "for i in range(T):\n",
    "    case = input()\n",
    "    sum, num = 0, 0\n",
    "    for c in case:\n",
    "        if c == 'O': num += 1\n",
    "        else: num = 0\n",
    "        sum += num\n",
    "    print(sum)"
   ]
  },
  {
   "cell_type": "code",
   "execution_count": null,
   "id": "1def2f72",
   "metadata": {},
   "outputs": [],
   "source": [
    "#브론즈4 9498) 시험 성적\n",
    "score = int(input())\n",
    "if 90 <= score <= 100: print('A')\n",
    "elif 80 <= score < 90: print('B')\n",
    "elif 70 <= score < 80: print('C')\n",
    "elif 60 <= score < 70: print('D')\n",
    "else: print('F')"
   ]
  },
  {
   "cell_type": "code",
   "execution_count": null,
   "id": "e1893885",
   "metadata": {},
   "outputs": [],
   "source": [
    "#브론즈5 10171) 고양이\n",
    "print(\"\\    /\\\\\\n )  ( ')\\n(  /  )\\n \\(__)|\")"
   ]
  },
  {
   "cell_type": "code",
   "execution_count": null,
   "id": "ceb340d3",
   "metadata": {},
   "outputs": [],
   "source": [
    "#브론즈5 10172) 강아지\n",
    "print('|\\_/|\\n|q p|   /}\\n( 0 )\"\"\"\\\\\\n|\"^\"`    |\\n||_/=\\\\\\__|')"
   ]
  },
  {
   "cell_type": "code",
   "execution_count": null,
   "id": "c848c3af",
   "metadata": {},
   "outputs": [],
   "source": [
    "#브론즈2 10809) 알파벳 찾기\n",
    "s = input()\n",
    "alphabet = \"abcdefghijklmnopqrstuvwxyz\"\n",
    "for i in alphabet:\n",
    "    print(s.find(i), end = ' ')"
   ]
  },
  {
   "cell_type": "code",
   "execution_count": null,
   "id": "592107c4",
   "metadata": {},
   "outputs": [],
   "source": [
    "#브론즈3 10818) 최소, 최대\n",
    "T = int(input())\n",
    "arr = list(map(int, input().split()))\n",
    "print(max(arr), min(arr))"
   ]
  },
  {
   "cell_type": "code",
   "execution_count": null,
   "id": "5324ce53",
   "metadata": {},
   "outputs": [],
   "source": [
    "#브론즈5 10869) 사칙연산\n",
    "A, B = map(int, input().split())\n",
    "print(A+B)\n",
    "print(A-B)\n",
    "print(A*B)\n",
    "print(A//B)\n",
    "print(A%B)"
   ]
  },
  {
   "cell_type": "code",
   "execution_count": null,
   "id": "d818ee87",
   "metadata": {},
   "outputs": [],
   "source": [
    "#브론즈3 10871) X보다 작은 수\n",
    "N, X = map(int, input().split())\n",
    "arr = list(map(int, input().split()))\n",
    "for i in arr:\n",
    "    if i < X: print(i, end=' ')"
   ]
  },
  {
   "cell_type": "code",
   "execution_count": null,
   "id": "dde5065d",
   "metadata": {},
   "outputs": [],
   "source": [
    "#브론즈3 10950) A + B -3\n",
    "N = int(input())\n",
    "for i in range(N):\n",
    "    A, B = map(int, input().split())\n",
    "    print(A+B)"
   ]
  },
  {
   "cell_type": "code",
   "execution_count": null,
   "id": "7dacd95c",
   "metadata": {},
   "outputs": [],
   "source": [
    "#브론즈3 10951) A + B -4\n",
    "import sys\n",
    "for i in sys.stdin:\n",
    "    a,b=map(int,i.split())\n",
    "    print(a+b)"
   ]
  },
  {
   "cell_type": "code",
   "execution_count": null,
   "id": "300aa8c8",
   "metadata": {},
   "outputs": [],
   "source": [
    "#브론즈3 10952) A + B -5\n",
    "import sys\n",
    "for i in sys.stdin:\n",
    "    a,b=map(int,i.split())\n",
    "    if a!=0 and b!=0:\n",
    "        print(a+b)"
   ]
  },
  {
   "cell_type": "code",
   "execution_count": null,
   "id": "27db7e7e",
   "metadata": {},
   "outputs": [],
   "source": [
    "#브론즈5 10998) A*B\n",
    "A, B = map(int, input().split())\n",
    "print(A*B)"
   ]
  },
  {
   "cell_type": "code",
   "execution_count": null,
   "id": "6854a3fd",
   "metadata": {},
   "outputs": [],
   "source": [
    "#브론즈5 11654) 아스키 코드\n",
    "print(ord(input()))"
   ]
  },
  {
   "cell_type": "code",
   "execution_count": null,
   "id": "8fd2b2d1",
   "metadata": {},
   "outputs": [],
   "source": [
    "#브론즈2 11720) 숫자의 합\n",
    "N = int(input())\n",
    "num = list(map(int, list(input())))\n",
    "print(sum(num))"
   ]
  }
 ],
 "metadata": {
  "kernelspec": {
   "display_name": "Python 3",
   "language": "python",
   "name": "python3"
  },
  "language_info": {
   "codemirror_mode": {
    "name": "ipython",
    "version": 3
   },
   "file_extension": ".py",
   "mimetype": "text/x-python",
   "name": "python",
   "nbconvert_exporter": "python",
   "pygments_lexer": "ipython3",
   "version": "3.8.2"
  }
 },
 "nbformat": 4,
 "nbformat_minor": 5
}
