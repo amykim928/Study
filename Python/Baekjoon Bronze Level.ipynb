{
 "cells": [
  {
   "cell_type": "code",
   "execution_count": null,
   "id": "ad575359",
   "metadata": {},
   "outputs": [],
   "source": [
    "#1000) A+B\n",
    "print(sum(map(int, input().split())))"
   ]
  },
  {
   "cell_type": "code",
   "execution_count": null,
   "id": "b973ed4c",
   "metadata": {},
   "outputs": [],
   "source": [
    "#1001) A-B\n",
    "s = list(map(int, input().split()))\n",
    "print(s[0]-s[1])"
   ]
  },
  {
   "cell_type": "code",
   "execution_count": null,
   "id": "fdc28da9",
   "metadata": {},
   "outputs": [],
   "source": [
    "#1008) A/B\n",
    "A, B = map(int, input().split())\n",
    "print(A/B)"
   ]
  },
  {
   "cell_type": "code",
   "execution_count": null,
   "id": "96cfb147",
   "metadata": {},
   "outputs": [],
   "source": [
    "#1152) 단어의 개수\n",
    "print(len(input().split()))"
   ]
  },
  {
   "cell_type": "code",
   "execution_count": null,
   "id": "daafba4d",
   "metadata": {},
   "outputs": [],
   "source": [
    "#1157) 단어 공부\n",
    "s= input().lower()\n",
    "alpha= []\n",
    "for i in range(97,123):\n",
    "    alpha.append(s.count(chr(i)))\n",
    "print('?'if alpha.count(max(alpha))>1 else chr(alpha.index(max(alpha))+97).upper())"
   ]
  },
  {
   "cell_type": "code",
   "execution_count": null,
   "id": "f0912f10",
   "metadata": {},
   "outputs": [],
   "source": [
    "#1330) 두 수 비교하기\n",
    "A, B = map(int, input().split())\n",
    "if A > B: print('>')\n",
    "elif A == B: print('==')\n",
    "else: print('<')"
   ]
  },
  {
   "cell_type": "code",
   "execution_count": null,
   "id": "9faed2c3",
   "metadata": {},
   "outputs": [],
   "source": [
    "#1546) 평균\n",
    "N = int(input())\n",
    "scores = list(map(int, input().split()))\n",
    "max = max(scores)\n",
    "for i in range(len(scores)):\n",
    "    scores[i] = scores[i]/max*100\n",
    "    \n",
    "print(sum(scores)/len(scores))"
   ]
  },
  {
   "cell_type": "code",
   "execution_count": null,
   "id": "aae35bec",
   "metadata": {},
   "outputs": [],
   "source": [
    "#2438) 별 찍기 -1\n",
    "for i in range(1, int(input())+1): print(i*'*')"
   ]
  },
  {
   "cell_type": "code",
   "execution_count": null,
   "id": "4279aef2",
   "metadata": {},
   "outputs": [],
   "source": [
    "#2439) 별 찍기 -2\n",
    "star = int(input())\n",
    "for i in range(1, star+1): print((star-i)*' '+i*'*')"
   ]
  },
  {
   "cell_type": "code",
   "execution_count": null,
   "id": "d7222ff3",
   "metadata": {},
   "outputs": [],
   "source": [
    "#2475) 검증수\n",
    "s = list(map(int, input().split()))\n",
    "print(sum([i*i for i in s])%10)"
   ]
  },
  {
   "cell_type": "code",
   "execution_count": null,
   "id": "955a6511",
   "metadata": {},
   "outputs": [],
   "source": [
    "#2562) 최댓값\n",
    "arr=[int(input())for i in range(9)]\n",
    "print(max(arr),arr.index(max(arr))+1)"
   ]
  },
  {
   "cell_type": "code",
   "execution_count": null,
   "id": "7ae1c391",
   "metadata": {},
   "outputs": [],
   "source": [
    "#2577) 숫자의 개수\n",
    "A = int(input())\n",
    "B = int(input())\n",
    "C = int(input())\n",
    "num = str(A*B*C)\n",
    "print(num)\n",
    "for i in range(10):\n",
    "    print(num.count(str(i)))"
   ]
  },
  {
   "cell_type": "code",
   "execution_count": null,
   "id": "38a3a832",
   "metadata": {},
   "outputs": [],
   "source": [
    "#2675) 문자열 반복\n",
    "T = int(input())\n",
    "for i in range(T):\n",
    "    R, S = map(str, input().split())\n",
    "    for j in S:\n",
    "        print(int(R)*j, end = '')\n",
    "    print()"
   ]
  },
  {
   "cell_type": "code",
   "execution_count": null,
   "id": "e8ac122a",
   "metadata": {},
   "outputs": [],
   "source": [
    "#2739) 구구단\n",
    "N = int(input())\n",
    "for i in range(1, 10):\n",
    "    print('{} * {} = {}'.format(N, i, N*i))"
   ]
  },
  {
   "cell_type": "code",
   "execution_count": null,
   "id": "4c5218b5",
   "metadata": {},
   "outputs": [],
   "source": [
    "#2741) N 찍기\n",
    "for i in range(1, int(input())+1): print(i)"
   ]
  },
  {
   "cell_type": "code",
   "execution_count": null,
   "id": "3bc93605",
   "metadata": {},
   "outputs": [],
   "source": [
    "#2742) 기찍 N\n",
    "for i in range(int(input()), 0, -1): print(i)"
   ]
  },
  {
   "cell_type": "code",
   "execution_count": null,
   "id": "9eaa8a47",
   "metadata": {},
   "outputs": [],
   "source": [
    "#2753) 윤년\n",
    "year = int(input())\n",
    "if year%4 == 0 and (year%100 != 0 or year%400 == 0): print(1)\n",
    "else: print(0)"
   ]
  },
  {
   "cell_type": "code",
   "execution_count": null,
   "id": "0598def5",
   "metadata": {},
   "outputs": [],
   "source": [
    "#2884) 알람 시계\n",
    "a,b=map(int,input().split())\n",
    "num=a*60+b-45\n",
    "print(num//60%24,num%60)"
   ]
  },
  {
   "cell_type": "code",
   "execution_count": null,
   "id": "ae953adb",
   "metadata": {},
   "outputs": [],
   "source": [
    "#2908) 상수\n",
    "A, B = input().split()\n",
    "print(int(max(A[::-1], B[::-1])))"
   ]
  },
  {
   "cell_type": "code",
   "execution_count": null,
   "id": "44a4cc17",
   "metadata": {},
   "outputs": [],
   "source": [
    "#2920) 음계\n",
    "s = list(map(int, input().split()))\n",
    "if s == sorted(s):\n",
    "    print('ascending')\n",
    "elif s == sorted(s, reverse = True):\n",
    "    print('descending')\n",
    "else:\n",
    "    print('mixed')"
   ]
  },
  {
   "cell_type": "code",
   "execution_count": null,
   "id": "cd4be7c8",
   "metadata": {},
   "outputs": [],
   "source": [
    "#3052) 나머지\n",
    "a = set()\n",
    "for i in range(10):\n",
    "    a.add(int(input())%42)\n",
    "    \n",
    "print(len(a))"
   ]
  }
 ],
 "metadata": {
  "kernelspec": {
   "display_name": "Python 3",
   "language": "python",
   "name": "python3"
  },
  "language_info": {
   "codemirror_mode": {
    "name": "ipython",
    "version": 3
   },
   "file_extension": ".py",
   "mimetype": "text/x-python",
   "name": "python",
   "nbconvert_exporter": "python",
   "pygments_lexer": "ipython3",
   "version": "3.8.2"
  }
 },
 "nbformat": 4,
 "nbformat_minor": 5
}
