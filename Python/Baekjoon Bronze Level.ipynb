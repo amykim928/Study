{
 "cells": [
  {
   "cell_type": "code",
   "execution_count": null,
   "id": "ad575359",
   "metadata": {},
   "outputs": [],
   "source": [
    "#브론즈5 1000) A+B\n",
    "print(sum(map(int, input().split())))"
   ]
  },
  {
   "cell_type": "code",
   "execution_count": null,
   "id": "b973ed4c",
   "metadata": {},
   "outputs": [],
   "source": [
    "#브론즈5 1001) A-B\n",
    "s = list(map(int, input().split()))\n",
    "print(s[0]-s[1])"
   ]
  },
  {
   "cell_type": "code",
   "execution_count": null,
   "id": "fdc28da9",
   "metadata": {},
   "outputs": [],
   "source": [
    "#브론즈4 1008) A/B\n",
    "A, B = map(int, input().split())\n",
    "print(A/B)"
   ]
  },
  {
   "cell_type": "code",
   "execution_count": null,
   "id": "62263256",
   "metadata": {},
   "outputs": [],
   "source": [
    "#브론즈1 1032) 명령 프롬프트\n",
    "import sys\n",
    "input = sys.stdin.readline\n",
    "n = int(input())\n",
    "a = list(input())\n",
    "for i in range(n-1):\n",
    "    b = list(input())\n",
    "    for j in range(len(a)):\n",
    "        if a[j] != b[j]:\n",
    "            a[j] = '?'\n",
    "print(''.join(a))"
   ]
  },
  {
   "cell_type": "code",
   "execution_count": null,
   "id": "d266708a",
   "metadata": {},
   "outputs": [],
   "source": [
    "#브론즈2 1075) 나누기\n",
    "n = int(input())\n",
    "m = int(input())\n",
    "n -= n%100\n",
    "for i in range(100):\n",
    "    n += i\n",
    "    if n%m == 0:\n",
    "        print(str(n)[-2:])\n",
    "        break\n",
    "    n -= i"
   ]
  },
  {
   "cell_type": "code",
   "execution_count": null,
   "id": "947d9594",
   "metadata": {},
   "outputs": [],
   "source": [
    "#브론즈2 1076) 저항\n",
    "color = ['black', 'brown', 'red', 'orange', 'yellow', 'green', 'blue', 'violet', 'grey', 'white']\n",
    "carr = [input() for _ in range(3)]\n",
    "print((color.index(carr[0])*10+color.index(carr[1]))*10**color.index(carr[2]))"
   ]
  },
  {
   "cell_type": "code",
   "execution_count": null,
   "id": "d3008aa1",
   "metadata": {},
   "outputs": [],
   "source": [
    "#브론즈2 1100) 하얀 칸\n",
    "count = 0\n",
    "first = True\n",
    "for i in range(8):\n",
    "    chess = input()\n",
    "    if first:\n",
    "        for i in range(0, 8, 2):\n",
    "            print(i)\n",
    "            if chess[i] == 'F':\n",
    "                count += 1\n",
    "        first = False\n",
    "    else:\n",
    "        for i in range(1, 8, 2):\n",
    "            print(i)\n",
    "            if chess[i] == 'F':\n",
    "                count += 1\n",
    "        first = True\n",
    "print(count)"
   ]
  },
  {
   "cell_type": "code",
   "execution_count": null,
   "id": "ebbef988",
   "metadata": {},
   "outputs": [],
   "source": [
    "#브론즈2 1159) 농구 경기\n",
    "import collections\n",
    "n = int(input())\n",
    "arr = []\n",
    "result = []\n",
    "for i in range(n):\n",
    "    arr.append(input()[0])\n",
    "arr = collections.Counter(arr).most_common()\n",
    "num = arr[0][1]\n",
    "if num < 5:\n",
    "    print('PREDAJA')\n",
    "else:\n",
    "    for i in arr:\n",
    "        if i[1] >= 5:\n",
    "            result.append(i[0])\n",
    "        else:\n",
    "            break\n",
    "result = sorted(result)\n",
    "for i in result:\n",
    "    print(i, end = '')"
   ]
  },
  {
   "cell_type": "code",
   "execution_count": null,
   "id": "e46f06a0",
   "metadata": {},
   "outputs": [],
   "source": [
    "#브론즈2 1173) 운동\n",
    "N, m, M, T, R = map(int, input().split())\n",
    "pulse = m\n",
    "count, result = 0, 0\n",
    "if M - m < T:\n",
    "    print('-1')\n",
    "else:\n",
    "    while count < N:\n",
    "        result += 1\n",
    "        if pulse + T <= M:\n",
    "            count += 1\n",
    "            pulse += T\n",
    "        else:\n",
    "            pulse -= R\n",
    "            if pulse < m:\n",
    "                pulse = m\n",
    "    print(result)"
   ]
  },
  {
   "cell_type": "code",
   "execution_count": null,
   "id": "7f2d3aa7",
   "metadata": {},
   "outputs": [],
   "source": [
    "#브론즈2 1225) 이상한 곱셉\n",
    "A, B = input().split()\n",
    "A = list(map(int, A))\n",
    "B = sum(list(map(int, B)))\n",
    "result = 0\n",
    "for i in A:\n",
    "    result += i*B\n",
    "print(result)"
   ]
  },
  {
   "cell_type": "code",
   "execution_count": null,
   "id": "2114c046",
   "metadata": {},
   "outputs": [],
   "source": [
    "#브론즈2 1233) 주사위\n",
    "import collections\n",
    "a, b, c = map(int, input().split())\n",
    "arr = []\n",
    "for i in range(1, a+1):\n",
    "    for j in range(1, b+1):\n",
    "        for k in range(1, c+1):\n",
    "            arr.append(i+j+k)\n",
    "print(collections.Counter(arr).most_common()[0][0])"
   ]
  },
  {
   "cell_type": "code",
   "execution_count": null,
   "id": "992f077f",
   "metadata": {},
   "outputs": [],
   "source": [
    "#브론즈2 1252) 이진수 덧셈\n",
    "n, m = input().split()\n",
    "result = int(n, 2) + int(m, 2)\n",
    "print(bin(result)[2:])"
   ]
  },
  {
   "cell_type": "code",
   "execution_count": null,
   "id": "144b9d20",
   "metadata": {},
   "outputs": [],
   "source": [
    "#브론즈2 1264) 모음의 개수\n",
    "while True:\n",
    "    s = input()\n",
    "    if s == '#':\n",
    "        break\n",
    "    s = s.lower()\n",
    "    count = 0\n",
    "    for i in s:\n",
    "        if i in ['a', 'e', 'i', 'o', 'u']:\n",
    "            count += 1\n",
    "    print(count)"
   ]
  },
  {
   "cell_type": "code",
   "execution_count": null,
   "id": "8e1d4312",
   "metadata": {},
   "outputs": [],
   "source": [
    "#브론즈2 1333) 부재중 전화\n",
    "n, l, d = map(int, input().split())\n",
    "check = [False] * (n * l + 5 * (n - 1))\n",
    "\n",
    "for i in range(n):\n",
    "    s = (l + 5) * i\n",
    "    for j in range(s, s + l):\n",
    "        check[j] = True\n",
    "\n",
    "answer = 0\n",
    "while answer < len(check):\n",
    "    if not check[answer]:\n",
    "        break\n",
    "    answer += d\n",
    "print(answer)"
   ]
  },
  {
   "cell_type": "code",
   "execution_count": null,
   "id": "c5b083a4",
   "metadata": {},
   "outputs": [],
   "source": [
    "#브론즈2 1362) 펫\n",
    "count = 0\n",
    "while True:\n",
    "    count += 1\n",
    "    death = False\n",
    "    o, w = map(int, input().split())\n",
    "    if o == 0 and w == 0:\n",
    "        break\n",
    "    while True:\n",
    "        command, num = input().split()\n",
    "        if command == '#' and num == '0':\n",
    "            break\n",
    "        if command == 'E':\n",
    "            w -= int(num)\n",
    "        else:\n",
    "            w += int(num)\n",
    "        if w <= 0:\n",
    "            death = True\n",
    "    print(count, end = \" \")\n",
    "    if death:\n",
    "        print(\"RIP\")\n",
    "    else:\n",
    "        if o/2 < w and w < o*2:\n",
    "            print(\":-)\")\n",
    "        else:\n",
    "            print(\":-(\")"
   ]
  },
  {
   "cell_type": "code",
   "execution_count": null,
   "id": "043e5cb3",
   "metadata": {},
   "outputs": [],
   "source": [
    "import sys\n",
    "s = sys.stdin.read()\n",
    "li = [0]*26\n",
    "for c in s:\n",
    "    if c.islower():\n",
    "        li[ord(c)-97] += 1\n",
    "for i in range(26):\n",
    "    if li[i] == max(li):\n",
    "        print(chr(97+i), end='')"
   ]
  },
  {
   "cell_type": "code",
   "execution_count": null,
   "id": "ded05d74",
   "metadata": {},
   "outputs": [],
   "source": [
    "#브론즈1 1855) 암호\n",
    "import sys\n",
    "input = sys.stdin.readline\n",
    "n = int(input())\n",
    "arr = input()\n",
    "split = []\n",
    "result = ''\n",
    "for i in range(len(arr)//n):\n",
    "    if i%2:\n",
    "        split.append(arr[i*n:i*n+n][::-1])\n",
    "    else:\n",
    "        split.append(arr[i*n:i*n+n])\n",
    "for i in range(n):\n",
    "    for j in split:\n",
    "        result += j[i]\n",
    "print(result)"
   ]
  },
  {
   "cell_type": "code",
   "execution_count": null,
   "id": "d7f5d6c4",
   "metadata": {},
   "outputs": [],
   "source": [
    "#브론즈3 1085) 직사각형에서 탈출\n",
    "x,y,w,h = map(int, input().split())\n",
    "print(min(abs(x-0),abs(y-0),abs(x-w),abs(y-h)))"
   ]
  },
  {
   "cell_type": "code",
   "execution_count": null,
   "id": "16563888",
   "metadata": {},
   "outputs": [],
   "source": [
    "#브론즈1 1110) 더하기 사이클\n",
    "n = int(input())\n",
    "cal = n\n",
    "count = 0\n",
    "while True:\n",
    "    cal = 10*(cal%10)+(cal//10+cal%10)%10\n",
    "    count += 1\n",
    "    if cal == n:\n",
    "        break\n",
    "print(count)"
   ]
  },
  {
   "cell_type": "code",
   "execution_count": null,
   "id": "a5711e69",
   "metadata": {},
   "outputs": [],
   "source": [
    "#브론즈1 1145) 적어도 대부분의 배수\n",
    "import itertools, sys\n",
    "input = sys.stdin.readline\n",
    "def lcm(a, b):\n",
    "    while b != 0:\n",
    "        a, b = b, a%b\n",
    "    return a\n",
    "    \n",
    "arr = list(map(int, input().split()))\n",
    "arr = list(itertools.combinations(arr, 3))\n",
    "result = int(1e9)\n",
    "for a, b, c in arr:\n",
    "    abLcm = a*b//lcm(a, b)\n",
    "    result = min(abLcm*c//lcm(abLcm, c),result)\n",
    "print(result)"
   ]
  },
  {
   "cell_type": "code",
   "execution_count": null,
   "id": "96cfb147",
   "metadata": {},
   "outputs": [],
   "source": [
    "#브론즈2 1152) 단어의 개수\n",
    "print(len(input().split()))"
   ]
  },
  {
   "cell_type": "code",
   "execution_count": null,
   "id": "daafba4d",
   "metadata": {},
   "outputs": [],
   "source": [
    "#브론즈1 1157) 단어 공부\n",
    "s= input().lower()\n",
    "alpha= []\n",
    "for i in range(97,123):\n",
    "    alpha.append(s.count(chr(i)))\n",
    "print('?'if alpha.count(max(alpha))>1 else chr(alpha.index(max(alpha))+97).upper())"
   ]
  },
  {
   "cell_type": "code",
   "execution_count": null,
   "id": "d0bb670c",
   "metadata": {},
   "outputs": [],
   "source": [
    "#브론즈1 1259) 팰린드롬수\n",
    "while True:\n",
    "    n = input()\n",
    "    if n == '0':\n",
    "        break\n",
    "        \n",
    "    if n == n[::-1]:\n",
    "        print('yes')\n",
    "    else:\n",
    "        print('no')"
   ]
  },
  {
   "cell_type": "code",
   "execution_count": null,
   "id": "f0912f10",
   "metadata": {},
   "outputs": [],
   "source": [
    "#브론즈4 1330) 두 수 비교하기\n",
    "A, B = map(int, input().split())\n",
    "if A > B: print('>')\n",
    "elif A == B: print('==')\n",
    "else: print('<')"
   ]
  },
  {
   "cell_type": "code",
   "execution_count": null,
   "id": "cd90ff62",
   "metadata": {},
   "outputs": [],
   "source": [
    "#브론즈2 1350) 진짜 공간\n",
    "import math\n",
    "n = int(input())\n",
    "arr = list(map(int, input().split()))\n",
    "size = int(input())\n",
    "result = 0\n",
    "for i in arr:\n",
    "    if i:\n",
    "        result += math.ceil(i/size)\n",
    "print(result*size)"
   ]
  },
  {
   "cell_type": "code",
   "execution_count": null,
   "id": "9faed2c3",
   "metadata": {},
   "outputs": [],
   "source": [
    "#브론즈1 1546) 평균\n",
    "N = int(input())\n",
    "scores = list(map(int, input().split()))\n",
    "max = max(scores)\n",
    "for i in range(len(scores)):\n",
    "    scores[i] = scores[i]/max*100\n",
    "    \n",
    "print(sum(scores)/len(scores))"
   ]
  },
  {
   "cell_type": "code",
   "execution_count": null,
   "id": "52439cbc",
   "metadata": {},
   "outputs": [],
   "source": [
    "#브론즈2 2231) 분해합\n",
    "n = int(input())\n",
    "for i in range(1, n+1):\n",
    "    num = list(map(int, str(i)))\n",
    "    if i+sum(num) == n:\n",
    "        print(i)\n",
    "        break\n",
    "        \n",
    "else:\n",
    "    print(0)"
   ]
  },
  {
   "cell_type": "code",
   "execution_count": null,
   "id": "3e0bc0bd",
   "metadata": {},
   "outputs": [],
   "source": [
    "#브론즈2 2292) 벌집\n",
    "num = int(input())\n",
    "room, i = 1, 1\n",
    "while True:\n",
    "    if room >= num:\n",
    "        print(i)\n",
    "        break\n",
    "    room += (6*i)\n",
    "    i += 1"
   ]
  },
  {
   "cell_type": "code",
   "execution_count": null,
   "id": "aae35bec",
   "metadata": {},
   "outputs": [],
   "source": [
    "#브론즈3 2438) 별 찍기 -1\n",
    "for i in range(1, int(input())+1): print(i*'*')"
   ]
  },
  {
   "cell_type": "code",
   "execution_count": null,
   "id": "4279aef2",
   "metadata": {},
   "outputs": [],
   "source": [
    "#브론즈3 2439) 별 찍기 -2\n",
    "star = int(input())\n",
    "for i in range(1, star+1): print((star-i)*' '+i*'*')"
   ]
  },
  {
   "cell_type": "code",
   "execution_count": null,
   "id": "d7222ff3",
   "metadata": {},
   "outputs": [],
   "source": [
    "#브론즈5 2475) 검증수\n",
    "s = list(map(int, input().split()))\n",
    "print(sum([i*i for i in s])%10)"
   ]
  },
  {
   "cell_type": "code",
   "execution_count": null,
   "id": "955a6511",
   "metadata": {},
   "outputs": [],
   "source": [
    "#브론즈2 2562) 최댓값\n",
    "arr=[int(input())for i in range(9)]\n",
    "print(max(arr),arr.index(max(arr))+1)"
   ]
  },
  {
   "cell_type": "code",
   "execution_count": null,
   "id": "7ae1c391",
   "metadata": {},
   "outputs": [],
   "source": [
    "#브론즈2 2577) 숫자의 개수\n",
    "A = int(input())\n",
    "B = int(input())\n",
    "C = int(input())\n",
    "num = str(A*B*C)\n",
    "print(num)\n",
    "for i in range(10):\n",
    "    print(num.count(str(i)))"
   ]
  },
  {
   "cell_type": "code",
   "execution_count": null,
   "id": "38a3a832",
   "metadata": {},
   "outputs": [],
   "source": [
    "#브론즈2 2675) 문자열 반복\n",
    "T = int(input())\n",
    "for i in range(T):\n",
    "    R, S = map(str, input().split())\n",
    "    for j in S:\n",
    "        print(int(R)*j, end = '')\n",
    "    print()"
   ]
  },
  {
   "cell_type": "code",
   "execution_count": null,
   "id": "e8ac122a",
   "metadata": {},
   "outputs": [],
   "source": [
    "#브론즈3 2739) 구구단\n",
    "N = int(input())\n",
    "for i in range(1, 10):\n",
    "    print('{} * {} = {}'.format(N, i, N*i))"
   ]
  },
  {
   "cell_type": "code",
   "execution_count": null,
   "id": "4c5218b5",
   "metadata": {},
   "outputs": [],
   "source": [
    "#브론즈3 2741) N 찍기\n",
    "for i in range(1, int(input())+1): print(i)"
   ]
  },
  {
   "cell_type": "code",
   "execution_count": null,
   "id": "3bc93605",
   "metadata": {},
   "outputs": [],
   "source": [
    "#브론즈3 2742) 기찍 N\n",
    "for i in range(int(input()), 0, -1): print(i)"
   ]
  },
  {
   "cell_type": "code",
   "execution_count": null,
   "id": "9eaa8a47",
   "metadata": {},
   "outputs": [],
   "source": [
    "#브론즈4 2753) 윤년\n",
    "year = int(input())\n",
    "if year%4 == 0 and (year%100 != 0 or year%400 == 0): print(1)\n",
    "else: print(0)"
   ]
  },
  {
   "cell_type": "code",
   "execution_count": null,
   "id": "c48a880a",
   "metadata": {},
   "outputs": [],
   "source": [
    "#브론즈2 2775) 부녀회장이 될테야\n",
    "T = int(input())\n",
    "for i in range(T):\n",
    "    k = int(input())\n",
    "    n = int(input())\n",
    "    people = [i for i in range(1, n+1)]\n",
    "    for x in range(k):\n",
    "        for y in range(1, n):\n",
    "            people[y] += people[y-1]\n",
    "    print(people[-1])"
   ]
  },
  {
   "cell_type": "code",
   "execution_count": null,
   "id": "5df9a2d1",
   "metadata": {},
   "outputs": [],
   "source": [
    "#브론즈2 2798) 블랙잭\n",
    "import itertools\n",
    "n, m = map(int, input().split())\n",
    "arr = list(map(int, input().split()))\n",
    "max_num = 0\n",
    "for i in itertools.combinations(arr, 3):\n",
    "    if sum(i) <= m:\n",
    "        if max_num < sum(i): max_num = sum(i)\n",
    "print(max_num)"
   ]
  },
  {
   "cell_type": "code",
   "execution_count": null,
   "id": "dd624777",
   "metadata": {},
   "outputs": [],
   "source": [
    "#브론즈1 2839) 설탕 배달\n",
    "n = int(input())\n",
    "bag = 0\n",
    "while n >= 0:\n",
    "    if n%5 == 0:\n",
    "        bag += n//5\n",
    "        print(bag)\n",
    "        break\n",
    "    n -= 3\n",
    "    bag += 1\n",
    "else:\n",
    "    print(-1)"
   ]
  },
  {
   "cell_type": "code",
   "execution_count": null,
   "id": "abd7bedf",
   "metadata": {},
   "outputs": [],
   "source": [
    "#브론즈1 2869) 달팽이는 올라가고 싶다\n",
    "A, B, V = map(int, input().split())\n",
    "V -= A\n",
    "if V % (A-B):\n",
    "    print(V//(A-B)+2)\n",
    "else:\n",
    "    print(V//(A-B)+1)"
   ]
  },
  {
   "cell_type": "code",
   "execution_count": null,
   "id": "0598def5",
   "metadata": {},
   "outputs": [],
   "source": [
    "#브론즈3 2884) 알람 시계\n",
    "a,b=map(int,input().split())\n",
    "num=a*60+b-45\n",
    "print(num//60%24,num%60)"
   ]
  },
  {
   "cell_type": "code",
   "execution_count": null,
   "id": "ae953adb",
   "metadata": {},
   "outputs": [],
   "source": [
    "#브론즈2 2908) 상수\n",
    "A, B = input().split()\n",
    "print(int(max(A[::-1], B[::-1])))"
   ]
  },
  {
   "cell_type": "code",
   "execution_count": null,
   "id": "44a4cc17",
   "metadata": {},
   "outputs": [],
   "source": [
    "#브론즈2 2920) 음계\n",
    "s = list(map(int, input().split()))\n",
    "if s == sorted(s):\n",
    "    print('ascending')\n",
    "elif s == sorted(s, reverse = True):\n",
    "    print('descending')\n",
    "else:\n",
    "    print('mixed')"
   ]
  },
  {
   "cell_type": "code",
   "execution_count": null,
   "id": "cd4be7c8",
   "metadata": {},
   "outputs": [],
   "source": [
    "#브론즈2 3052) 나머지\n",
    "a = set()\n",
    "for i in range(10):\n",
    "    a.add(int(input())%42)\n",
    "    \n",
    "print(len(a))"
   ]
  },
  {
   "cell_type": "code",
   "execution_count": null,
   "id": "d05388d2",
   "metadata": {},
   "outputs": [],
   "source": [
    "#브론즈3 4153) 직각삼각형\n",
    "while True:\n",
    "        a = list(map(int, input().split()))\n",
    "        max_num = max(a)\n",
    "        if sum(a) == 0:\n",
    "                break\n",
    "        a.remove(max_num)\n",
    "        if a[0] ** 2 + a[1] ** 2 == max_num ** 2:\n",
    "                print('right')\n",
    "        else:\n",
    "                print('wrong')"
   ]
  },
  {
   "cell_type": "code",
   "execution_count": null,
   "id": "76908ea6",
   "metadata": {},
   "outputs": [],
   "source": [
    "#브론즈2 8958) OX퀴즈\n",
    "T = int(input())\n",
    "for i in range(T):\n",
    "    case = input()\n",
    "    sum, num = 0, 0\n",
    "    for c in case:\n",
    "        if c == 'O': num += 1\n",
    "        else: num = 0\n",
    "        sum += num\n",
    "    print(sum)"
   ]
  },
  {
   "cell_type": "code",
   "execution_count": null,
   "id": "1def2f72",
   "metadata": {},
   "outputs": [],
   "source": [
    "#브론즈4 9498) 시험 성적\n",
    "score = int(input())\n",
    "if 90 <= score <= 100: print('A')\n",
    "elif 80 <= score < 90: print('B')\n",
    "elif 70 <= score < 80: print('C')\n",
    "elif 60 <= score < 70: print('D')\n",
    "else: print('F')"
   ]
  },
  {
   "cell_type": "code",
   "execution_count": null,
   "id": "e1893885",
   "metadata": {},
   "outputs": [],
   "source": [
    "#브론즈5 10171) 고양이\n",
    "print(\"\\    /\\\\\\n )  ( ')\\n(  /  )\\n \\(__)|\")"
   ]
  },
  {
   "cell_type": "code",
   "execution_count": null,
   "id": "ceb340d3",
   "metadata": {},
   "outputs": [],
   "source": [
    "#브론즈5 10172) 강아지\n",
    "print('|\\_/|\\n|q p|   /}\\n( 0 )\"\"\"\\\\\\n|\"^\"`    |\\n||_/=\\\\\\__|')"
   ]
  },
  {
   "cell_type": "code",
   "execution_count": null,
   "id": "b7bb7df1",
   "metadata": {},
   "outputs": [],
   "source": [
    "#브론즈3 10250) ACM 호텔\n",
    "T = int(input())\n",
    "for i in range(T):\n",
    "    H, W, N = map(int, input().split())\n",
    "    room = N//H if N%H == 0 else N//H + 1\n",
    "    floor = H if N%H == 0 else N%H\n",
    "    print(floor*100+room)"
   ]
  },
  {
   "cell_type": "code",
   "execution_count": null,
   "id": "c848c3af",
   "metadata": {},
   "outputs": [],
   "source": [
    "#브론즈2 10809) 알파벳 찾기\n",
    "s = input()\n",
    "alphabet = \"abcdefghijklmnopqrstuvwxyz\"\n",
    "for i in alphabet:\n",
    "    print(s.find(i), end = ' ')"
   ]
  },
  {
   "cell_type": "code",
   "execution_count": null,
   "id": "592107c4",
   "metadata": {},
   "outputs": [],
   "source": [
    "#브론즈3 10818) 최소, 최대\n",
    "T = int(input())\n",
    "arr = list(map(int, input().split()))\n",
    "print(max(arr), min(arr))"
   ]
  },
  {
   "cell_type": "code",
   "execution_count": null,
   "id": "5324ce53",
   "metadata": {},
   "outputs": [],
   "source": [
    "#브론즈5 10869) 사칙연산\n",
    "A, B = map(int, input().split())\n",
    "print(A+B)\n",
    "print(A-B)\n",
    "print(A*B)\n",
    "print(A//B)\n",
    "print(A%B)"
   ]
  },
  {
   "cell_type": "code",
   "execution_count": null,
   "id": "d818ee87",
   "metadata": {},
   "outputs": [],
   "source": [
    "#브론즈3 10871) X보다 작은 수\n",
    "N, X = map(int, input().split())\n",
    "arr = list(map(int, input().split()))\n",
    "for i in arr:\n",
    "    if i < X: print(i, end=' ')"
   ]
  },
  {
   "cell_type": "code",
   "execution_count": null,
   "id": "dde5065d",
   "metadata": {},
   "outputs": [],
   "source": [
    "#브론즈3 10950) A + B -3\n",
    "N = int(input())\n",
    "for i in range(N):\n",
    "    A, B = map(int, input().split())\n",
    "    print(A+B)"
   ]
  },
  {
   "cell_type": "code",
   "execution_count": null,
   "id": "7dacd95c",
   "metadata": {},
   "outputs": [],
   "source": [
    "#브론즈3 10951) A + B -4\n",
    "import sys\n",
    "for i in sys.stdin:\n",
    "    a,b=map(int,i.split())\n",
    "    print(a+b)"
   ]
  },
  {
   "cell_type": "code",
   "execution_count": null,
   "id": "300aa8c8",
   "metadata": {},
   "outputs": [],
   "source": [
    "#브론즈3 10952) A + B -5\n",
    "import sys\n",
    "for i in sys.stdin:\n",
    "    a,b=map(int,i.split())\n",
    "    if a!=0 and b!=0:\n",
    "        print(a+b)"
   ]
  },
  {
   "cell_type": "code",
   "execution_count": null,
   "id": "27db7e7e",
   "metadata": {},
   "outputs": [],
   "source": [
    "#브론즈5 10998) A*B\n",
    "A, B = map(int, input().split())\n",
    "print(A*B)"
   ]
  },
  {
   "cell_type": "code",
   "execution_count": null,
   "id": "20fd3598",
   "metadata": {},
   "outputs": [],
   "source": [
    "#브론즈1 11050) 이항 계수 1\n",
    "import math\n",
    "N, K = map(int, input().split())\n",
    "print(int(math.factorial(N)/(math.factorial(K)*math.factorial(N-K))))"
   ]
  },
  {
   "cell_type": "code",
   "execution_count": null,
   "id": "6854a3fd",
   "metadata": {},
   "outputs": [],
   "source": [
    "#브론즈5 11654) 아스키 코드\n",
    "print(ord(input()))"
   ]
  },
  {
   "cell_type": "code",
   "execution_count": null,
   "id": "8fd2b2d1",
   "metadata": {},
   "outputs": [],
   "source": [
    "#브론즈2 11720) 숫자의 합\n",
    "N = int(input())\n",
    "num = list(map(int, list(input())))\n",
    "print(sum(num))"
   ]
  },
  {
   "cell_type": "code",
   "execution_count": null,
   "id": "59d28d24",
   "metadata": {},
   "outputs": [],
   "source": [
    "#브론즈2 15829) Hashing\n",
    "L = int(input())\n",
    "s = input()\n",
    "answer = 0\n",
    "for i in range(L):\n",
    "    answer += ((ord(s[i])-96)*(31**i))\n",
    "    \n",
    "print(answer%1234567891)"
   ]
  },
  {
   "cell_type": "code",
   "execution_count": null,
   "id": "6dd0a573",
   "metadata": {},
   "outputs": [],
   "source": []
  }
 ],
 "metadata": {
  "kernelspec": {
   "display_name": "Python 3",
   "language": "python",
   "name": "python3"
  },
  "language_info": {
   "codemirror_mode": {
    "name": "ipython",
    "version": 3
   },
   "file_extension": ".py",
   "mimetype": "text/x-python",
   "name": "python",
   "nbconvert_exporter": "python",
   "pygments_lexer": "ipython3",
   "version": "3.8.2"
  }
 },
 "nbformat": 4,
 "nbformat_minor": 5
}
