{
 "cells": [
  {
   "cell_type": "code",
   "execution_count": 1,
   "id": "f80598cc",
   "metadata": {},
   "outputs": [
    {
     "name": "stdout",
     "output_type": "stream",
     "text": [
      "2\n",
      "a\n",
      "[1, 2]\n",
      "['a', 'b']\n",
      "[1, 2, 3, 4, 5, 6]\n",
      "[1, 2, 3, 1, 2, 3, 1, 2, 3]\n",
      "3\n",
      "[1, 2, 4]\n",
      "[1, 4]\n"
     ]
    }
   ],
   "source": [
    "#리스트의 인덱싱\n",
    "a = [0,1,2,3]\n",
    "print(a[0] + a[2])\n",
    "a = [1, 2, 3, ['a','b','c']]\n",
    "print(a[-1][0])\n",
    "\n",
    "#리스트의 슬라이싱\n",
    "print(a[0:2])\n",
    "print(a[-1][:2])\n",
    "\n",
    "#리스트 연산\n",
    "a = [1, 2, 3]\n",
    "b = [4, 5, 6]\n",
    "print(a + b)\n",
    "print(a * 3)\n",
    "print(len(a))\n",
    "\n",
    "#리스트 수정과 삭제\n",
    "a[2] = 4\n",
    "print(a)\n",
    "del a[1]\n",
    "print(a)"
   ]
  },
  {
   "cell_type": "code",
   "execution_count": 2,
   "id": "2d4f9757",
   "metadata": {},
   "outputs": [
    {
     "name": "stdout",
     "output_type": "stream",
     "text": [
      "[1, 2, 3, 4]\n",
      "[1, 2, 3, 4, [5, 6]]\n",
      "[1, 2, 3, 4]\n",
      "['ab', 'ad', 'ca']\n",
      "['b', 'c', 'a']\n",
      "2\n",
      "[1, 2, 4, 3]\n",
      "[1, 2, 3]\n",
      "2\n",
      "[1, 3]\n",
      "2\n",
      "[1, 2, 3, 1, 4, 5]\n",
      "[1, 2, 3, 1, 4, 5, 6, 7]\n"
     ]
    }
   ],
   "source": [
    "#리스트 관련 함수\n",
    "a = [1, 2, 3]\n",
    "a.append(4)\n",
    "print(a)\n",
    "a.append([5, 6])\n",
    "print(a)\n",
    "\n",
    "a = [1, 4, 3, 2]\n",
    "a.sort()\n",
    "print(a)\n",
    "\n",
    "a = ['ab', 'ca', 'ad']\n",
    "a.sort()\n",
    "print(a)\n",
    "\n",
    "a = ['a', 'c', 'b']\n",
    "a.reverse()\n",
    "print(a)\n",
    "\n",
    "a = [1, 2, 3]\n",
    "print(a.index(3))\n",
    "#print(a.index(0)) valueError\n",
    "\n",
    "a.insert(2, 4)\n",
    "print(a)\n",
    "\n",
    "a.remove(4)\n",
    "print(a)\n",
    "#중복이 있어도 첫번째로 나오는 것만 제거\n",
    "\n",
    "print(a.pop(1))\n",
    "print(a)\n",
    "\n",
    "a = [1,2,3,1]\n",
    "print(a.count(1))\n",
    "\n",
    "a.extend([4, 5])\n",
    "print(a)\n",
    "b = [6, 7]\n",
    "a.extend(b)\n",
    "print(a)"
   ]
  }
 ],
 "metadata": {
  "kernelspec": {
   "display_name": "Python 3",
   "language": "python",
   "name": "python3"
  },
  "language_info": {
   "codemirror_mode": {
    "name": "ipython",
    "version": 3
   },
   "file_extension": ".py",
   "mimetype": "text/x-python",
   "name": "python",
   "nbconvert_exporter": "python",
   "pygments_lexer": "ipython3",
   "version": "3.8.2"
  }
 },
 "nbformat": 4,
 "nbformat_minor": 5
}
