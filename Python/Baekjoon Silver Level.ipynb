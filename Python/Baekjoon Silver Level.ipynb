{
 "cells": [
  {
   "cell_type": "code",
   "execution_count": null,
   "id": "94a7c4ed",
   "metadata": {},
   "outputs": [],
   "source": [
    "#실버5 1181) 단어 정렬\n",
    "N = int(input())\n",
    "arr = []\n",
    "for i in range(N):\n",
    "    s = input()\n",
    "    if s not in arr:\n",
    "        arr.append(s)\n",
    "arr.sort()\n",
    "arr.sort(key=len)\n",
    "for i in arr:\n",
    "    print(i)"
   ]
  },
  {
   "cell_type": "code",
   "execution_count": null,
   "id": "40222f77",
   "metadata": {},
   "outputs": [],
   "source": [
    "#실버4 1920) 수 찾기\n",
    "import sys\n",
    "N = sys.stdin.readline()\n",
    "arr1 = set(sys.stdin.readline().split())\n",
    "M = sys.stdin.readline()\n",
    "arr2 = sys.stdin.readline().split()\n",
    "for i in arr2:\n",
    "    print(1) if i in arr1 else print(0)\n",
    "    \n",
    "#set, dict의 in 연산의 시간복잡도는 O(1)이다."
   ]
  }
 ],
 "metadata": {
  "kernelspec": {
   "display_name": "Python 3",
   "language": "python",
   "name": "python3"
  },
  "language_info": {
   "codemirror_mode": {
    "name": "ipython",
    "version": 3
   },
   "file_extension": ".py",
   "mimetype": "text/x-python",
   "name": "python",
   "nbconvert_exporter": "python",
   "pygments_lexer": "ipython3",
   "version": "3.8.2"
  }
 },
 "nbformat": 4,
 "nbformat_minor": 5
}
