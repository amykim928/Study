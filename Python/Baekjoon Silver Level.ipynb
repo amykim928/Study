{
 "cells": [
  {
   "cell_type": "code",
   "execution_count": null,
   "id": "94a7c4ed",
   "metadata": {},
   "outputs": [],
   "source": [
    "#실버5 1181) 단어 정렬\n",
    "N = int(input())\n",
    "arr = []\n",
    "for i in range(N):\n",
    "    s = input()\n",
    "    if s not in arr:\n",
    "        arr.append(s)\n",
    "arr.sort()\n",
    "arr.sort(key=len)\n",
    "for i in arr:\n",
    "    print(i)"
   ]
  }
 ],
 "metadata": {
  "kernelspec": {
   "display_name": "Python 3",
   "language": "python",
   "name": "python3"
  },
  "language_info": {
   "codemirror_mode": {
    "name": "ipython",
    "version": 3
   },
   "file_extension": ".py",
   "mimetype": "text/x-python",
   "name": "python",
   "nbconvert_exporter": "python",
   "pygments_lexer": "ipython3",
   "version": "3.8.2"
  }
 },
 "nbformat": 4,
 "nbformat_minor": 5
}
