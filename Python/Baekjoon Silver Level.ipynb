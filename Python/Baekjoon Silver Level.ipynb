{
 "cells": [
  {
   "cell_type": "code",
   "execution_count": null,
   "id": "94a7c4ed",
   "metadata": {},
   "outputs": [],
   "source": [
    "#실버5 1181) 단어 정렬\n",
    "N = int(input())\n",
    "arr = []\n",
    "for i in range(N):\n",
    "    s = input()\n",
    "    if s not in arr:\n",
    "        arr.append(s)\n",
    "arr.sort()\n",
    "arr.sort(key=len)\n",
    "for i in arr:\n",
    "    print(i)"
   ]
  },
  {
   "cell_type": "code",
   "execution_count": null,
   "id": "98a0bce6",
   "metadata": {},
   "outputs": [],
   "source": [
    "#실버5 1436) 영화감독 숌\n",
    "n = int(input())\n",
    "nth = 666\n",
    "count = 0\n",
    "while True:\n",
    "    if '666' in str(nth):\n",
    "        count += 1\n",
    "    if count == n:\n",
    "        print(nth)\n",
    "        break\n",
    "    nth += 1"
   ]
  },
  {
   "cell_type": "code",
   "execution_count": null,
   "id": "40222f77",
   "metadata": {},
   "outputs": [],
   "source": [
    "#실버4 1920) 수 찾기\n",
    "import sys\n",
    "N = sys.stdin.readline()\n",
    "arr1 = set(sys.stdin.readline().split())\n",
    "M = sys.stdin.readline()\n",
    "arr2 = sys.stdin.readline().split()\n",
    "for i in arr2:\n",
    "    print(1) if i in arr1 else print(0)\n",
    "    \n",
    "#set, dict의 in 연산의 시간복잡도는 O(1)이다."
   ]
  },
  {
   "cell_type": "code",
   "execution_count": null,
   "id": "1f6a7d56",
   "metadata": {},
   "outputs": [],
   "source": [
    "#실버2 1929) 소수 구하기\n",
    "import math\n",
    "def prime_number(x, y): #에라토스테네스의 체\n",
    "    arr = [True for i in range(y+1)]\n",
    "    for i in range(2, int(math.sqrt(y))+1):\n",
    "        if arr[i] == True:\n",
    "            j = 2\n",
    "            while i*j <= y:\n",
    "                arr[i*j] = False\n",
    "                j += 1\n",
    "                \n",
    "    return [i for i in range(2, y+1) if arr[i] and i>=x]\n",
    "\n",
    "x, y = map(int, input().split())\n",
    "result = prime_number(x, y)\n",
    "for i in result:\n",
    "    print(i)"
   ]
  },
  {
   "cell_type": "code",
   "execution_count": null,
   "id": "e17fec19",
   "metadata": {},
   "outputs": [],
   "source": [
    "#실버4 2164) 카드2\n",
    "import collections\n",
    "n = int(input())\n",
    "arr = collections.deque()\n",
    "for i in range(1, n+1):\n",
    "    arr.append(i)\n",
    "while len(arr) > 1:\n",
    "    arr.popleft()\n",
    "    num = arr.popleft()\n",
    "    arr.append(num)\n",
    "    \n",
    "print(arr[0])"
   ]
  },
  {
   "cell_type": "code",
   "execution_count": null,
   "id": "63e08400",
   "metadata": {},
   "outputs": [],
   "source": [
    "#실버5 2609) 최대공약수와 최소공배수\n",
    "def gcm(x, y):\n",
    "    while y:\n",
    "        x, y = y, x%y\n",
    "    return x\n",
    "\n",
    "x, y = map(int, input().split())\n",
    "gcm = gcm(x, y)\n",
    "print(gcm)\n",
    "print(gcm*(x//gcm)*(y//gcm))"
   ]
  },
  {
   "cell_type": "code",
   "execution_count": null,
   "id": "ac11f1f8",
   "metadata": {},
   "outputs": [],
   "source": [
    "#실버5 7568) 덩치\n",
    "n = int(input())\n",
    "arr = []\n",
    "result = []\n",
    "for i in range(n):\n",
    "    w, h = map(int, input().split())\n",
    "    arr.append((w, h))\n",
    "    \n",
    "for i in arr:\n",
    "    count = 0\n",
    "    for j in range(len(arr)):\n",
    "        if i[0] < arr[j][0] and i[1] < arr[j][1]:\n",
    "            count += 1\n",
    "    result.append(count+1)\n",
    "\n",
    "for i in result:\n",
    "    print(i, end = ' ')"
   ]
  },
  {
   "cell_type": "code",
   "execution_count": null,
   "id": "3bbb50f4",
   "metadata": {},
   "outputs": [],
   "source": [
    "#실버5 10814) 나이순 정렬\n",
    "n = int(input())\n",
    "arr = []\n",
    "for i in range(n):\n",
    "    age, name = map(str, input().split())\n",
    "    arr.append((int(age), name))\n",
    "    \n",
    "arr.sort(key = lambda x: x[0])\n",
    "for i in arr:\n",
    "    print(i[0], i[1])"
   ]
  },
  {
   "cell_type": "code",
   "execution_count": null,
   "id": "ab0ca5da",
   "metadata": {},
   "outputs": [],
   "source": []
  }
 ],
 "metadata": {
  "kernelspec": {
   "display_name": "Python 3",
   "language": "python",
   "name": "python3"
  },
  "language_info": {
   "codemirror_mode": {
    "name": "ipython",
    "version": 3
   },
   "file_extension": ".py",
   "mimetype": "text/x-python",
   "name": "python",
   "nbconvert_exporter": "python",
   "pygments_lexer": "ipython3",
   "version": "3.8.2"
  }
 },
 "nbformat": 4,
 "nbformat_minor": 5
}
