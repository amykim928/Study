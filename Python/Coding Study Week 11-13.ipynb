{
 "cells": [
  {
   "cell_type": "code",
   "execution_count": null,
   "id": "e281569d",
   "metadata": {},
   "outputs": [],
   "source": [
    "#2020 KAKAO BLIND RECRUITEMENT) 괄호 변환\n",
    "def solution(p):\n",
    "    def check(p):\n",
    "        if p.count('(') == p.count(')'):\n",
    "            stack = []\n",
    "            for i in p:\n",
    "                if i == '(': stack.append(i)\n",
    "                else:\n",
    "                    if stack: stack.pop()\n",
    "                    else: return False\n",
    "            return len(stack) == 0\n",
    "    \n",
    "    if p == '' or check(p): return p\n",
    "    \n",
    "    u = p[0]\n",
    "    v = p[1:]\n",
    "    \n",
    "    for i in range(2, len(p)+1):\n",
    "        if u.count('(') == u.count(')') and v.count('(') == v.count(')'):\n",
    "            break\n",
    "        u = p[:i]\n",
    "        v = p[i:]\n",
    "    \n",
    "    if check(u):\n",
    "        return u + solution(v)\n",
    "    \n",
    "    result = '(' + solution(v) + ')'\n",
    "    u = u[1:len(u)-1]\n",
    "    for i in u:\n",
    "        if i == '(': result += ')'\n",
    "        else: result += '('\n",
    "    \n",
    "    return result"
   ]
  },
  {
   "cell_type": "code",
   "execution_count": null,
   "id": "dccb11ba",
   "metadata": {},
   "outputs": [],
   "source": [
    "#2020 KAKAO BLIND RECRUITMENT) 기둥과 보 설치\n",
    "def solution(n, build_frame):\n",
    "    def check():\n",
    "        for x, y, a in answer:\n",
    "            if a == 0:\n",
    "                if y == 0 or [x-1, y, 1] in answer or [x, y, 1] in answer or [x, y-1, 0] in answer: continue\n",
    "                else: return True\n",
    "            else:\n",
    "                if [x, y-1, 0] in answer or [x+1, y-1, 0] in answer or ([x-1, y, 1] in answer and [x+1, y, 1] in answer): continue\n",
    "                else: return True\n",
    "        return False\n",
    "    \n",
    "    answer = []\n",
    "    for x, y, a, b, in build_frame:\n",
    "        if b == 0:\n",
    "            answer.remove([x, y, a])\n",
    "            if check():\n",
    "                answer.append([x, y, a])\n",
    "        else:\n",
    "            answer.append([x, y, a])\n",
    "            if check():\n",
    "                answer.remove([x, y, a])\n",
    "    \n",
    "    answer.sort(key = lambda x: (x[0], x[1], x[2]))\n",
    "    return answer"
   ]
  }
 ],
 "metadata": {
  "kernelspec": {
   "display_name": "Python 3",
   "language": "python",
   "name": "python3"
  },
  "language_info": {
   "codemirror_mode": {
    "name": "ipython",
    "version": 3
   },
   "file_extension": ".py",
   "mimetype": "text/x-python",
   "name": "python",
   "nbconvert_exporter": "python",
   "pygments_lexer": "ipython3",
   "version": "3.8.2"
  }
 },
 "nbformat": 4,
 "nbformat_minor": 5
}
