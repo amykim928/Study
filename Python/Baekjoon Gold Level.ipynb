{
 "cells": [
  {
   "cell_type": "code",
   "execution_count": null,
   "id": "241315ae",
   "metadata": {},
   "outputs": [],
   "source": [
    "#골드5 1107) 리모컨\n",
    "import sys\n",
    "input = sys.stdin.readline\n",
    "n = int(input())\n",
    "m = int(input())\n",
    "button = []\n",
    "result = abs(n-100)\n",
    "if m > 0:\n",
    "    button = input().split()\n",
    "for i in range(1000001):\n",
    "    l = list(str(i))\n",
    "    for j in l:\n",
    "        if j in button:\n",
    "            break\n",
    "    else:\n",
    "        result = min(result, len(str(i))+abs(i-n))\n",
    "print(result)"
   ]
  },
  {
   "cell_type": "code",
   "execution_count": null,
   "id": "730c09db",
   "metadata": {},
   "outputs": [],
   "source": [
    "#골드4 10830) 행렬 제곱\n",
    "#다른 사람의 코드 참고(출처: https://claude-u.tistory.com/421)\n",
    "import sys\n",
    "input = sys.stdin.readline\n",
    "def mulmatrix(m1, m2):\n",
    "    result = [[0]*n for _ in range(n)]\n",
    "    for i in range(n):\n",
    "        for j in range(n):\n",
    "            for k in range(n):\n",
    "                result[i][j] += m1[i][k] * m2[k][j]\n",
    "            result[i][j] %= 1000\n",
    "            \n",
    "    return result\n",
    "\n",
    "n, b = map(int, input().split())\n",
    "matrix = [list(map(int, input().split())) for _ in range(n)]\n",
    "b = bin(b)[2:]\n",
    "result = [[1 if i == j else 0 for i in range(n)] for j in range(n)]\n",
    "\n",
    "for i in range(len(b)):\n",
    "    if b[-i-1] == '1':\n",
    "        multi = matrix[:]\n",
    "        while i:\n",
    "            multi = mulmatrix(multi, multi)\n",
    "            i -= 1\n",
    "        result = mulmatrix(result, multi)\n",
    "        \n",
    "for r in result: print(*r)"
   ]
  }
 ],
 "metadata": {
  "kernelspec": {
   "display_name": "Python 3",
   "language": "python",
   "name": "python3"
  },
  "language_info": {
   "codemirror_mode": {
    "name": "ipython",
    "version": 3
   },
   "file_extension": ".py",
   "mimetype": "text/x-python",
   "name": "python",
   "nbconvert_exporter": "python",
   "pygments_lexer": "ipython3",
   "version": "3.8.2"
  }
 },
 "nbformat": 4,
 "nbformat_minor": 5
}
