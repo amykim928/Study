{
 "cells": [
  {
   "cell_type": "code",
   "execution_count": null,
   "id": "b4fcc4ee",
   "metadata": {},
   "outputs": [],
   "source": [
    "#1) 해시 - 전화번호 목록\n",
    "def solution(phone_book):\n",
    "    phone_book.sort()\n",
    "    for i in range(len(phone_book)-1):\n",
    "        if phone_book[i] in phone_book[i+1][:len(phone_book[i])]:\n",
    "            return False\n",
    "        \n",
    "    return True\n",
    "\n",
    "#다른 사람의 풀이 (출처: https://programmers.co.kr/learn/courses/30/lessons/42577/solution_groups?language=python3)\n",
    "def solution(phone_book):\n",
    "    hash_map = {}\n",
    "    for phone_number in phone_book:\n",
    "        hash_map[phone_number] = 1\n",
    "    for phone_number in phone_book:\n",
    "        temp = \"\"\n",
    "        for number in phone_number:\n",
    "            print(number)\n",
    "            temp += number\n",
    "            if temp in hash_map and temp != phone_number:\n",
    "                return False\n",
    "    return True\n",
    "\n",
    "#내 풀이는 길이가 작은 번호가 길이가 긴 번호의 접두어인지 확인했지만,\n",
    "#이 풀이는 해시를 사용해 길이가 긴 번호를 숫자 하나씩 받아 길이가 작은 번호와 일치한지 확인하였다."
   ]
  },
  {
   "cell_type": "code",
   "execution_count": null,
   "id": "19f0db4c",
   "metadata": {},
   "outputs": [],
   "source": []
  }
 ],
 "metadata": {
  "kernelspec": {
   "display_name": "Python 3",
   "language": "python",
   "name": "python3"
  },
  "language_info": {
   "codemirror_mode": {
    "name": "ipython",
    "version": 3
   },
   "file_extension": ".py",
   "mimetype": "text/x-python",
   "name": "python",
   "nbconvert_exporter": "python",
   "pygments_lexer": "ipython3",
   "version": "3.8.2"
  }
 },
 "nbformat": 4,
 "nbformat_minor": 5
}
