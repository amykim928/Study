{
 "cells": [
  {
   "cell_type": "code",
   "execution_count": 1,
   "id": "3e3a2b2d",
   "metadata": {},
   "outputs": [
    {
     "name": "stdout",
     "output_type": "stream",
     "text": [
      "Python is fun\n",
      "PythonPython\n",
      "6\n",
      "n\n",
      "Pyt\n",
      "Python\n"
     ]
    }
   ],
   "source": [
    "#문자열 연산하기\n",
    "head = \"Python\"\n",
    "tail = \" is fun\"\n",
    "print(head+tail)\n",
    "\n",
    "#문자열 곱하기\n",
    "print(head*2)\n",
    "\n",
    "#문자열 길이\n",
    "print(len(head))\n",
    "\n",
    "#문자열 인덱싱\n",
    "print(head[-1])\n",
    "\n",
    "#문자열 슬라이싱\n",
    "b = head[0] + head[1] + head[2]\n",
    "print(b)\n",
    "\n",
    "a = \"Pithon\"\n",
    "str = a[:1] + \"y\" + a[2:]\n",
    "print(str)"
   ]
  },
  {
   "cell_type": "code",
   "execution_count": 2,
   "id": "fcceca84",
   "metadata": {},
   "outputs": [
    {
     "name": "stdout",
     "output_type": "stream",
     "text": [
      "I eat 3 apples\n",
      "I eat five apples\n",
      "I eat 3 apples.\n",
      "I ate 3 apples, so I was sick for three days.\n",
      "        hi\n",
      "hi        jane.\n"
     ]
    }
   ],
   "source": [
    "#문자열 포매팅\n",
    "print(\"I eat %d apples\" % 3)\n",
    "print(\"I eat %s apples\" % \"five\")\n",
    "number = 3\n",
    "print(\"I eat %d apples.\" % number)\n",
    "day = \"three\"\n",
    "print(\"I ate %d apples, so I was sick for %s days.\" % (number, day))\n",
    "\n",
    "print(\"%10s\" % \"hi\")\n",
    "print(\"%-10sjane.\" % \"hi\")"
   ]
  },
  {
   "cell_type": "code",
   "execution_count": 3,
   "id": "75484925",
   "metadata": {},
   "outputs": [
    {
     "name": "stdout",
     "output_type": "stream",
     "text": [
      "I eat 3 apples\n",
      "I eat 3 apples\n",
      "I eat 3 apples, so I was sick for three days\n",
      "I eat 10 apples, so I was sick for 3 days\n",
      "hi        \n",
      "        hi\n",
      "    hi    \n",
      "====hi====\n",
      "3.4213\n"
     ]
    }
   ],
   "source": [
    "#format 함수를 사용한 포매팅\n",
    "number = 3\n",
    "day = \"three\"\n",
    "print(\"I eat {0} apples\".format(3))\n",
    "print(\"I eat {0} apples\".format(number))\n",
    "print(\"I eat {0} apples, so I was sick for {1} days\".format(number, day))\n",
    "print(\"I eat {number} apples, so I was sick for {day} days\".format(number=10, day=3))\n",
    "\n",
    "print(\"{0:<10}\".format(\"hi\"))\n",
    "print(\"{0:>10}\".format(\"hi\"))\n",
    "print(\"{0:^10}\".format(\"hi\"))\n",
    "print(\"{0:=^10}\".format(\"hi\"))\n",
    "\n",
    "y = 3.42134234\n",
    "print(\"{0:0.4f}\".format(y))"
   ]
  },
  {
   "cell_type": "code",
   "execution_count": 4,
   "id": "e3b3fbd8",
   "metadata": {},
   "outputs": [
    {
     "name": "stdout",
     "output_type": "stream",
     "text": [
      "나의 이름은 김현아입니다. 나이는 23입니다.\n",
      "나의 이름은 김현아입니다. 나이는 23입니다.\n"
     ]
    }
   ],
   "source": [
    "#f 문자열 포매팅\n",
    "name = \"김현아\"\n",
    "age = 22\n",
    "print(f'나의 이름은 {name}입니다. 나이는 {age+1}입니다.')\n",
    "d = {'name':'김현아','age':23}\n",
    "print(f'나의 이름은 {d[\"name\"]}입니다. 나이는 {d[\"age\"]}입니다.')"
   ]
  },
  {
   "cell_type": "code",
   "execution_count": 5,
   "id": "77737b64",
   "metadata": {},
   "outputs": [
    {
     "name": "stdout",
     "output_type": "stream",
     "text": [
      "2\n",
      "14\n",
      "-1\n",
      "14\n",
      "a,b,c,d\n",
      "a,b,c,d\n",
      "PYTHON IS THE BEST CHOICE\n",
      "python is the best choice\n",
      "hi\n",
      "hi\n",
      "hi\n",
      "Your leg is too short\n",
      "['Life', 'is', 'too', 'short']\n",
      "['a', 'b', 'c', 'd']\n"
     ]
    }
   ],
   "source": [
    "#문자열 관련 함수\n",
    "a = \"hobby\"\n",
    "print(a.count('b'))\n",
    "\n",
    "a = \"Python is the best choice\"\n",
    "print(a.find('b'))\n",
    "print(a.find('k'))\n",
    "\n",
    "print(a.index('b'))\n",
    "#print(a.index('k')) 오류\n",
    "\n",
    "print(\",\".join('abcd'))\n",
    "print(\",\".join(['a','b','c','d']))\n",
    "\n",
    "print(a.upper())\n",
    "print(a.lower())\n",
    "\n",
    "a = \"  hi\"\n",
    "print(a.lstrip())\n",
    "a = \"hi  \"\n",
    "print(a.rstrip())\n",
    "a = \"  hi   \"\n",
    "print(a.strip())\n",
    "\n",
    "a = \"Life is too short\"\n",
    "print(a.replace(\"Life\",\"Your leg\"))\n",
    "\n",
    "print(a.split())\n",
    "b = \"a:b:c:d\"\n",
    "print(b.split(':'))"
   ]
  }
 ],
 "metadata": {
  "kernelspec": {
   "display_name": "Python 3",
   "language": "python",
   "name": "python3"
  },
  "language_info": {
   "codemirror_mode": {
    "name": "ipython",
    "version": 3
   },
   "file_extension": ".py",
   "mimetype": "text/x-python",
   "name": "python",
   "nbconvert_exporter": "python",
   "pygments_lexer": "ipython3",
   "version": "3.8.2"
  }
 },
 "nbformat": 4,
 "nbformat_minor": 5
}
